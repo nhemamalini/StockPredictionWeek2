{
 "cells": [
  {
   "cell_type": "code",
   "execution_count": 1,
   "metadata": {},
   "outputs": [],
   "source": [
    "import numpy as np\n",
    "import pandas as pd\n",
    "from sklearn import linear_model\n",
    "from sklearn.linear_model import OrthogonalMatchingPursuit\n",
    "from pandas import Series, DataFrame\n",
    "import matplotlib.pyplot as plt\n",
    "from matplotlib import style"
   ]
  },
  {
   "cell_type": "code",
   "execution_count": 2,
   "metadata": {},
   "outputs": [],
   "source": [
    "import matplotlib as mpl\n",
    "from sklearn.metrics import mean_squared_error, r2_score\n",
    "\n",
    "avetime = 30\n",
    "test_fract = 0.2"
   ]
  },
  {
   "cell_type": "code",
   "execution_count": 4,
   "metadata": {},
   "outputs": [
    {
     "name": "stdout",
     "output_type": "stream",
     "text": [
      "Coefficients: \n",
      " [[-0.87823045]]\n",
      "Coefficients: \n",
      " [-0.87823045]\n",
      "Mov Avg mean squared error: 23707.83\n",
      "move avg Variance score: -78.40\n",
      "omp Mov Avg mean squared error: 23707.83\n",
      "omp move avg Variance score: -78.40\n",
      "sgd Mov Avg mean squared error: 6574741625282245959876608.00\n",
      "sgd move avg Variance score: -22018814426245159190528.00\n"
     ]
    },
    {
     "name": "stderr",
     "output_type": "stream",
     "text": [
      "/home/socadmin/anaconda3/envs/newautoencoder/lib/python3.6/site-packages/sklearn/utils/validation.py:724: DataConversionWarning: A column-vector y was passed when a 1d array was expected. Please change the shape of y to (n_samples, ), for example using ravel().\n",
      "  y = column_or_1d(y, warn=True)\n"
     ]
    },
    {
     "data": {
      "image/png": "[encoded data removed]",
      "text/plain": [
       "<Figure size 432x288 with 1 Axes>"
      ]
     },
     "metadata": {
      "needs_background": "light"
     },
     "output_type": "display_data"
    }
   ],
   "source": [
    "def moving_average(a, n=100):\n",
    "    ret = np.cumsum(a, dtype=float)\n",
    "    ret[n:] = ret[n:] - ret[:-n]\n",
    "    return ret[n - 1:] / n\n",
    "\n",
    "\n",
    "df = pd.read_csv('data/AAPL.csv')\n",
    "close_px = df['Adj Close']\n",
    "\n",
    "close_px = np.asarray(df['Adj Close'])\n",
    "close_px = close_px.reshape(-1, 1)\n",
    "df['Date'] = df['Date'].astype('datetime64[D]')\n",
    "df['Serial'] = df['Date'] - min(df['Date'])\n",
    "thedate = np.asarray(df['Serial']) / np.timedelta64(1, 'D')\n",
    "thedate = thedate.reshape(-1, 1)\n",
    "\n",
    "mavg = moving_average(np.asarray(close_px), avetime)\n",
    "mavg = mavg[~np.isnan(mavg)]\n",
    "mavg = mavg.reshape(-1, 1)\n",
    "\n",
    "N = mavg.shape[0]\n",
    "train_data_sz = int(N * (1 - test_fract))\n",
    "\n",
    "\n",
    "mavg_date = moving_average(np.asarray(thedate), avetime)\n",
    "mavg_date = mavg_date.reshape(-1, 1)\n",
    "mavg_date_train = mavg_date[:-train_data_sz]\n",
    "mavg_date_test = mavg_date[-train_data_sz:]\n",
    "\n",
    "mavg_train = mavg[:-train_data_sz]\n",
    "mavg_test = mavg[-train_data_sz:]\n",
    "\n",
    "\n",
    "# Create linear regression object\n",
    "regrmavg = linear_model.LinearRegression()\n",
    "regomp = OrthogonalMatchingPursuit()\n",
    "regsgd = linear_model.SGDRegressor(max_iter=1000, tol=1e-3)\n",
    "# Train the model using the training sets\n",
    "\n",
    "regomp.fit(mavg_date_train, mavg_train)\n",
    "\n",
    "regrmavg.fit(mavg_date_train, mavg_train)\n",
    "regsgd.fit(mavg_date_train, mavg_train)\n",
    "\n",
    "# Make predictions using the testing set\n",
    "mavg_pred = regrmavg.predict(mavg_date_test)\n",
    "\n",
    "omp_pred = regomp.predict(mavg_date_test)\n",
    "\n",
    "sgd_pred = regsgd.predict(mavg_date_test)\n",
    "\n",
    "# The coefficients\n",
    "print('Coefficients: \\n', regrmavg.coef_)\n",
    "print('Coefficients: \\n', regomp.coef_)\n",
    "\n",
    "# The mean squared error\n",
    "\n",
    "print(\"Mov Avg mean squared error: %.2f\"\n",
    "      % mean_squared_error(mavg_test, mavg_pred))\n",
    "# Explained variance score: 1 is perfect prediction\n",
    "print('move avg Variance score: %.2f' % r2_score(mavg_test, mavg_pred))\n",
    "\n",
    "print(\"omp Mov Avg mean squared error: %.2f\"\n",
    "      % mean_squared_error(mavg_test, omp_pred))\n",
    "# Explained variance score: 1 is perfect prediction\n",
    "print('omp move avg Variance score: %.2f' % r2_score(mavg_test, omp_pred))\n",
    "\n",
    "print(\"sgd Mov Avg mean squared error: %.2f\"\n",
    "      % mean_squared_error(mavg_test, sgd_pred))\n",
    "# Explained variance score: 1 is perfect prediction\n",
    "print('sgd move avg Variance score: %.2f' % r2_score(mavg_test, sgd_pred))\n",
    "\n",
    "\n",
    "plt.scatter(mavg_date_test, mavg_test,  color='red')\n",
    "plt.plot(mavg_date_test, sgd_pred, color='orange', linewidth=3)\n",
    "plt.show()"
   ]
  },
  {
   "cell_type": "code",
   "execution_count": null,
   "metadata": {},
   "outputs": [],
   "source": []
  }
 ],
 "metadata": {
  "anaconda-cloud": {},
  "kernelspec": {
   "display_name": "Python 3",
   "language": "python",
   "name": "python3"
  },
  "language_info": {
   "codemirror_mode": {
    "name": "ipython",
    "version": 3
   },
   "file_extension": ".py",
   "mimetype": "text/x-python",
   "name": "python",
   "nbconvert_exporter": "python",
   "pygments_lexer": "ipython3",
   "version": "3.6.8"
  }
 },
 "nbformat": 4,
 "nbformat_minor": 1
}
