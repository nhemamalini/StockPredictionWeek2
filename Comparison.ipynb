{
 "cells": [
  {
   "cell_type": "code",
   "execution_count": 2,
   "metadata": {},
   "outputs": [],
   "source": [
    "import numpy as np\n",
    "import pandas as pd\n",
    "import matplotlib.pyplot as plt"
   ]
  },
  {
   "cell_type": "code",
   "execution_count": 3,
   "metadata": {},
   "outputs": [],
   "source": [
    "#Modeling\n",
    "from sklearn.linear_model import LinearRegression, Ridge, Lasso\n",
    "from sklearn import preprocessing\n",
    "from sklearn.model_selection import train_test_split\n",
    "from sklearn.ensemble import GradientBoostingRegressor\n",
    "\n",
    "#Modeling Metrics\n",
    "from sklearn import metrics"
   ]
  },
  {
   "cell_type": "code",
   "execution_count": 5,
   "metadata": {},
   "outputs": [],
   "source": [
    "df_full = pd.read_csv('data/AAPL.csv')"
   ]
  },
  {
   "cell_type": "code",
   "execution_count": 6,
   "metadata": {},
   "outputs": [
    {
     "data": {
      "text/plain": [
       "(250, 7)"
      ]
     },
     "execution_count": 6,
     "metadata": {},
     "output_type": "execute_result"
    }
   ],
   "source": [
    "df_full.shape"
   ]
  },
  {
   "cell_type": "code",
   "execution_count": 7,
   "metadata": {},
   "outputs": [
    {
     "data": {
      "text/html": [
       "<div>\n",
       "<style scoped>\n",
       "    .dataframe tbody tr th:only-of-type {\n",
       "        vertical-align: middle;\n",
       "    }\n",
       "\n",
       "    .dataframe tbody tr th {\n",
       "        vertical-align: top;\n",
       "    }\n",
       "\n",
       "    .dataframe thead th {\n",
       "        text-align: right;\n",
       "    }\n",
       "</style>\n",
       "<table border=\"1\" class=\"dataframe\">\n",
       "  <thead>\n",
       "    <tr style=\"text-align: right;\">\n",
       "      <th></th>\n",
       "      <th>Date</th>\n",
       "      <th>Open</th>\n",
       "      <th>High</th>\n",
       "      <th>Low</th>\n",
       "      <th>Close</th>\n",
       "      <th>Adj Close</th>\n",
       "      <th>Volume</th>\n",
       "    </tr>\n",
       "  </thead>\n",
       "  <tbody>\n",
       "    <tr>\n",
       "      <td>0</td>\n",
       "      <td>2018-09-17</td>\n",
       "      <td>222.149994</td>\n",
       "      <td>222.949997</td>\n",
       "      <td>217.270004</td>\n",
       "      <td>217.880005</td>\n",
       "      <td>214.550659</td>\n",
       "      <td>37195100</td>\n",
       "    </tr>\n",
       "    <tr>\n",
       "      <td>1</td>\n",
       "      <td>2018-09-18</td>\n",
       "      <td>217.789993</td>\n",
       "      <td>221.850006</td>\n",
       "      <td>217.119995</td>\n",
       "      <td>218.240005</td>\n",
       "      <td>214.905167</td>\n",
       "      <td>31571700</td>\n",
       "    </tr>\n",
       "    <tr>\n",
       "      <td>2</td>\n",
       "      <td>2018-09-19</td>\n",
       "      <td>218.500000</td>\n",
       "      <td>219.619995</td>\n",
       "      <td>215.300003</td>\n",
       "      <td>218.369995</td>\n",
       "      <td>215.033142</td>\n",
       "      <td>27123800</td>\n",
       "    </tr>\n",
       "    <tr>\n",
       "      <td>3</td>\n",
       "      <td>2018-09-20</td>\n",
       "      <td>220.240005</td>\n",
       "      <td>222.279999</td>\n",
       "      <td>219.149994</td>\n",
       "      <td>220.029999</td>\n",
       "      <td>216.667816</td>\n",
       "      <td>26608800</td>\n",
       "    </tr>\n",
       "    <tr>\n",
       "      <td>4</td>\n",
       "      <td>2018-09-21</td>\n",
       "      <td>220.779999</td>\n",
       "      <td>221.360001</td>\n",
       "      <td>217.289993</td>\n",
       "      <td>217.660004</td>\n",
       "      <td>214.334030</td>\n",
       "      <td>96246700</td>\n",
       "    </tr>\n",
       "  </tbody>\n",
       "</table>\n",
       "</div>"
      ],
      "text/plain": [
       "         Date        Open        High         Low       Close   Adj Close  \\\n",
       "0  2018-09-17  222.149994  222.949997  217.270004  217.880005  214.550659   \n",
       "1  2018-09-18  217.789993  221.850006  217.119995  218.240005  214.905167   \n",
       "2  2018-09-19  218.500000  219.619995  215.300003  218.369995  215.033142   \n",
       "3  2018-09-20  220.240005  222.279999  219.149994  220.029999  216.667816   \n",
       "4  2018-09-21  220.779999  221.360001  217.289993  217.660004  214.334030   \n",
       "\n",
       "     Volume  \n",
       "0  37195100  \n",
       "1  31571700  \n",
       "2  27123800  \n",
       "3  26608800  \n",
       "4  96246700  "
      ]
     },
     "execution_count": 7,
     "metadata": {},
     "output_type": "execute_result"
    }
   ],
   "source": [
    "df_full.head()"
   ]
  },
  {
   "cell_type": "code",
   "execution_count": 8,
   "metadata": {},
   "outputs": [
    {
     "data": {
      "text/html": [
       "<div>\n",
       "<style scoped>\n",
       "    .dataframe tbody tr th:only-of-type {\n",
       "        vertical-align: middle;\n",
       "    }\n",
       "\n",
       "    .dataframe tbody tr th {\n",
       "        vertical-align: top;\n",
       "    }\n",
       "\n",
       "    .dataframe thead th {\n",
       "        text-align: right;\n",
       "    }\n",
       "</style>\n",
       "<table border=\"1\" class=\"dataframe\">\n",
       "  <thead>\n",
       "    <tr style=\"text-align: right;\">\n",
       "      <th></th>\n",
       "      <th>Open</th>\n",
       "      <th>High</th>\n",
       "      <th>Low</th>\n",
       "      <th>Close</th>\n",
       "      <th>Adj Close</th>\n",
       "      <th>Volume</th>\n",
       "    </tr>\n",
       "  </thead>\n",
       "  <tbody>\n",
       "    <tr>\n",
       "      <td>count</td>\n",
       "      <td>250.000000</td>\n",
       "      <td>250.000000</td>\n",
       "      <td>250.000000</td>\n",
       "      <td>250.000000</td>\n",
       "      <td>250.000000</td>\n",
       "      <td>2.500000e+02</td>\n",
       "    </tr>\n",
       "    <tr>\n",
       "      <td>mean</td>\n",
       "      <td>192.005960</td>\n",
       "      <td>194.051640</td>\n",
       "      <td>190.013320</td>\n",
       "      <td>192.048080</td>\n",
       "      <td>190.506955</td>\n",
       "      <td>3.249190e+07</td>\n",
       "    </tr>\n",
       "    <tr>\n",
       "      <td>std</td>\n",
       "      <td>20.948312</td>\n",
       "      <td>21.089815</td>\n",
       "      <td>20.850386</td>\n",
       "      <td>20.916556</td>\n",
       "      <td>20.816736</td>\n",
       "      <td>1.391808e+07</td>\n",
       "    </tr>\n",
       "    <tr>\n",
       "      <td>min</td>\n",
       "      <td>143.979996</td>\n",
       "      <td>145.720001</td>\n",
       "      <td>142.000000</td>\n",
       "      <td>142.190002</td>\n",
       "      <td>140.505798</td>\n",
       "      <td>1.136200e+07</td>\n",
       "    </tr>\n",
       "    <tr>\n",
       "      <td>25%</td>\n",
       "      <td>174.737499</td>\n",
       "      <td>175.902496</td>\n",
       "      <td>173.362499</td>\n",
       "      <td>174.757499</td>\n",
       "      <td>173.279304</td>\n",
       "      <td>2.289640e+07</td>\n",
       "    </tr>\n",
       "    <tr>\n",
       "      <td>50%</td>\n",
       "      <td>196.364998</td>\n",
       "      <td>198.750000</td>\n",
       "      <td>193.805000</td>\n",
       "      <td>196.345001</td>\n",
       "      <td>195.165612</td>\n",
       "      <td>2.904540e+07</td>\n",
       "    </tr>\n",
       "    <tr>\n",
       "      <td>75%</td>\n",
       "      <td>207.449997</td>\n",
       "      <td>209.089996</td>\n",
       "      <td>205.104996</td>\n",
       "      <td>207.479996</td>\n",
       "      <td>206.476417</td>\n",
       "      <td>3.876678e+07</td>\n",
       "    </tr>\n",
       "    <tr>\n",
       "      <td>max</td>\n",
       "      <td>230.779999</td>\n",
       "      <td>233.470001</td>\n",
       "      <td>229.779999</td>\n",
       "      <td>232.070007</td>\n",
       "      <td>228.523819</td>\n",
       "      <td>9.624670e+07</td>\n",
       "    </tr>\n",
       "  </tbody>\n",
       "</table>\n",
       "</div>"
      ],
      "text/plain": [
       "             Open        High         Low       Close   Adj Close  \\\n",
       "count  250.000000  250.000000  250.000000  250.000000  250.000000   \n",
       "mean   192.005960  194.051640  190.013320  192.048080  190.506955   \n",
       "std     20.948312   21.089815   20.850386   20.916556   20.816736   \n",
       "min    143.979996  145.720001  142.000000  142.190002  140.505798   \n",
       "25%    174.737499  175.902496  173.362499  174.757499  173.279304   \n",
       "50%    196.364998  198.750000  193.805000  196.345001  195.165612   \n",
       "75%    207.449997  209.089996  205.104996  207.479996  206.476417   \n",
       "max    230.779999  233.470001  229.779999  232.070007  228.523819   \n",
       "\n",
       "             Volume  \n",
       "count  2.500000e+02  \n",
       "mean   3.249190e+07  \n",
       "std    1.391808e+07  \n",
       "min    1.136200e+07  \n",
       "25%    2.289640e+07  \n",
       "50%    2.904540e+07  \n",
       "75%    3.876678e+07  \n",
       "max    9.624670e+07  "
      ]
     },
     "execution_count": 8,
     "metadata": {},
     "output_type": "execute_result"
    }
   ],
   "source": [
    "df_full.describe()"
   ]
  },
  {
   "cell_type": "code",
   "execution_count": 9,
   "metadata": {},
   "outputs": [
    {
     "data": {
      "text/plain": [
       "<matplotlib.axes._subplots.AxesSubplot at 0x7f24d44a4d30>"
      ]
     },
     "execution_count": 9,
     "metadata": {},
     "output_type": "execute_result"
    },
    {
     "data": {
      "image/png": "[encoded data removed]",
      "text/plain": [
       "<Figure size 432x288 with 1 Axes>"
      ]
     },
     "metadata": {
      "needs_background": "light"
     },
     "output_type": "display_data"
    }
   ],
   "source": [
    "df_full[\"Adj Close\"].plot()"
   ]
  },
  {
   "cell_type": "code",
   "execution_count": 10,
   "metadata": {},
   "outputs": [],
   "source": [
    "df_full.set_index(\"Date\", inplace=True)"
   ]
  },
  {
   "cell_type": "code",
   "execution_count": 11,
   "metadata": {},
   "outputs": [],
   "source": [
    "window_size=32\n",
    "num_samples=len(df_full)-window_size\n",
    "\n",
    "# Get indices of access for the data\n",
    "indices=np.arange(num_samples).astype(np.int)[:,None]+np.arange(window_size+1).astype(np.int)\n",
    "\n",
    "\n",
    "data = df_full['Adj Close'].values[indices] # Create the 2D matrix of training samples\n",
    "x = data[:,:-1] # Each row represents 32 days in the past\n",
    "y = data[:,-1] # Each output value represents the 33rd day"
   ]
  },
  {
   "cell_type": "code",
   "execution_count": 12,
   "metadata": {},
   "outputs": [],
   "source": [
    "split_fraction=0.8\n",
    "ind_split=int(split_fraction*num_samples)"
   ]
  },
  {
   "cell_type": "code",
   "execution_count": 13,
   "metadata": {},
   "outputs": [],
   "source": [
    "x_train = x[:ind_split]\n",
    "y_train = y[:ind_split]\n",
    "x_test = x[ind_split:]\n",
    "y_test = y[ind_split:]"
   ]
  },
  {
   "cell_type": "code",
   "execution_count": 14,
   "metadata": {},
   "outputs": [
    {
     "data": {
      "text/plain": [
       "(44,)"
      ]
     },
     "execution_count": 14,
     "metadata": {},
     "output_type": "execute_result"
    }
   ],
   "source": [
    "y_test.shape"
   ]
  },
  {
   "cell_type": "code",
   "execution_count": 15,
   "metadata": {},
   "outputs": [],
   "source": [
    "def get_performance (model_pred):\n",
    "  #Function returns standard performance metrics\n",
    "  print('Mean Absolute Error:', metrics.mean_absolute_error(y_test, model_pred).round(4))  \n",
    "  print('Mean Squared Error:', metrics.mean_squared_error(y_test, model_pred).round(4))  \n",
    "  print('Root Mean Squared Error:', np.sqrt(metrics.mean_squared_error(y_test, model_pred)).round(4))\n",
    "  \n",
    "  \n",
    "  \n",
    "def get_plot (model_pred):\n",
    "  plt.scatter(model_pred, y_test, color=\"gray\")\n",
    "  plt.plot(y_test, y_test, color='red', linewidth=2)"
   ]
  },
  {
   "cell_type": "code",
   "execution_count": 16,
   "metadata": {},
   "outputs": [],
   "source": [
    "y_pred_lag=np.roll(y_test,1)"
   ]
  },
  {
   "cell_type": "code",
   "execution_count": 19,
   "metadata": {},
   "outputs": [
    {
     "name": "stdout",
     "output_type": "stream",
     "text": [
      "Mean Absolute Error: 3.2488\n",
      "Mean Squared Error: 19.5791\n",
      "Root Mean Squared Error: 4.4248\n"
     ]
    }
   ],
   "source": [
    "get_performance(y_pred_lag)"
   ]
  },
  {
   "cell_type": "code",
   "execution_count": 18,
   "metadata": {},
   "outputs": [
    {
     "data": {
      "image/png": "[encoded data removed]",
      "text/plain": [
       "<Figure size 432x288 with 1 Axes>"
      ]
     },
     "metadata": {
      "needs_background": "light"
     },
     "output_type": "display_data"
    }
   ],
   "source": [
    "get_plot(y_pred_lag)"
   ]
  },
  {
   "cell_type": "markdown",
   "metadata": {},
   "source": [
    "# Linear Regression"
   ]
  },
  {
   "cell_type": "code",
   "execution_count": 20,
   "metadata": {},
   "outputs": [
    {
     "data": {
      "text/plain": [
       "LinearRegression(copy_X=True, fit_intercept=True, n_jobs=None, normalize=False)"
      ]
     },
     "execution_count": 20,
     "metadata": {},
     "output_type": "execute_result"
    }
   ],
   "source": [
    "model_lr=LinearRegression()\n",
    "model_lr.fit(x_train, y_train)"
   ]
  },
  {
   "cell_type": "code",
   "execution_count": 21,
   "metadata": {},
   "outputs": [],
   "source": [
    "y_pred_lr=model_lr.predict(x_test)"
   ]
  },
  {
   "cell_type": "code",
   "execution_count": 22,
   "metadata": {},
   "outputs": [
    {
     "name": "stdout",
     "output_type": "stream",
     "text": [
      "Mean Absolute Error: 3.3142\n",
      "Mean Squared Error: 18.6691\n",
      "Root Mean Squared Error: 4.3208\n"
     ]
    }
   ],
   "source": [
    "get_performance(y_pred_lr)"
   ]
  },
  {
   "cell_type": "code",
   "execution_count": 23,
   "metadata": {},
   "outputs": [
    {
     "data": {
      "image/png": "[encoded data removed]",
      "text/plain": [
       "<Figure size 432x288 with 1 Axes>"
      ]
     },
     "metadata": {
      "needs_background": "light"
     },
     "output_type": "display_data"
    }
   ],
   "source": [
    "get_plot(y_pred_lr)"
   ]
  },
  {
   "cell_type": "code",
   "execution_count": 24,
   "metadata": {},
   "outputs": [
    {
     "name": "stdout",
     "output_type": "stream",
     "text": [
      "Mean Absolute Error: 3.3142\n",
      "Mean Squared Error: 18.6691\n",
      "Root Mean Squared Error: 4.3208\n"
     ]
    }
   ],
   "source": [
    "get_performance(y_pred_lr)"
   ]
  },
  {
   "cell_type": "code",
   "execution_count": 25,
   "metadata": {},
   "outputs": [],
   "source": [
    "model_ridge = Ridge()\n",
    "model_ridge.fit(x_train, y_train)\n",
    "\n",
    "#generate predictions\n",
    "y_pred_ridge=model_ridge.predict(x_test)"
   ]
  },
  {
   "cell_type": "code",
   "execution_count": 26,
   "metadata": {},
   "outputs": [
    {
     "name": "stdout",
     "output_type": "stream",
     "text": [
      "Mean Absolute Error: 3.314\n",
      "Mean Squared Error: 18.6666\n",
      "Root Mean Squared Error: 4.3205\n"
     ]
    }
   ],
   "source": [
    "get_performance(y_pred_ridge)"
   ]
  },
  {
   "cell_type": "code",
   "execution_count": 27,
   "metadata": {},
   "outputs": [
    {
     "data": {
      "image/png": "[encoded data removed]",
      "text/plain": [
       "<Figure size 432x288 with 1 Axes>"
      ]
     },
     "metadata": {
      "needs_background": "light"
     },
     "output_type": "display_data"
    }
   ],
   "source": [
    "get_plot(y_pred_ridge)"
   ]
  },
  {
   "cell_type": "code",
   "execution_count": 28,
   "metadata": {},
   "outputs": [],
   "source": [
    "# Model #2 - Gradient Boosting Trees\n",
    "model_gb = GradientBoostingRegressor()\n",
    "model_gb.fit(x_train, y_train)\n",
    "\n",
    "# Infer\n",
    "y_pred_gb = model_gb.predict(x_test)"
   ]
  },
  {
   "cell_type": "code",
   "execution_count": 29,
   "metadata": {},
   "outputs": [
    {
     "name": "stdout",
     "output_type": "stream",
     "text": [
      "Mean Absolute Error: 5.4802\n",
      "Mean Squared Error: 50.2573\n",
      "Root Mean Squared Error: 7.0892\n"
     ]
    }
   ],
   "source": [
    "get_performance(y_pred_gb)"
   ]
  },
  {
   "cell_type": "code",
   "execution_count": 30,
   "metadata": {},
   "outputs": [
    {
     "data": {
      "image/png": "[encoded data removed]",
      "text/plain": [
       "<Figure size 432x288 with 1 Axes>"
      ]
     },
     "metadata": {
      "needs_background": "light"
     },
     "output_type": "display_data"
    }
   ],
   "source": [
    "get_plot(y_pred_gb)"
   ]
  },
  {
   "cell_type": "code",
   "execution_count": 31,
   "metadata": {},
   "outputs": [],
   "source": [
    "df_comp=pd.DataFrame({\"lag\":np.absolute(y_test-y_pred_lag), \n",
    "              \"lr\":np.absolute(y_test-y_pred_lr), \n",
    "              \"ridge\":np.absolute(y_test-y_pred_ridge),\n",
    "              \"gb\":np.absolute(y_test-y_pred_gb)})"
   ]
  },
  {
   "cell_type": "code",
   "execution_count": 32,
   "metadata": {},
   "outputs": [
    {
     "data": {
      "text/plain": [
       "(9, 20)"
      ]
     },
     "execution_count": 32,
     "metadata": {},
     "output_type": "execute_result"
    },
    {
     "data": {
      "image/png": "[encoded data removed]",
      "text/plain": [
       "<Figure size 1152x432 with 1 Axes>"
      ]
     },
     "metadata": {
      "needs_background": "light"
     },
     "output_type": "display_data"
    }
   ],
   "source": [
    "df_comp.plot.bar(figsize=(16, 6))\n",
    "plt.ylim(0,10)\n",
    "plt.xlim(9,20)"
   ]
  },
  {
   "cell_type": "code",
   "execution_count": null,
   "metadata": {},
   "outputs": [],
   "source": []
  }
 ],
 "metadata": {
  "kernelspec": {
   "display_name": "Python 3",
   "language": "python",
   "name": "python3"
  },
  "language_info": {
   "codemirror_mode": {
    "name": "ipython",
    "version": 3
   },
   "file_extension": ".py",
   "mimetype": "text/x-python",
   "name": "python",
   "nbconvert_exporter": "python",
   "pygments_lexer": "ipython3",
   "version": "3.6.8"
  }
 },
 "nbformat": 4,
 "nbformat_minor": 2
}
