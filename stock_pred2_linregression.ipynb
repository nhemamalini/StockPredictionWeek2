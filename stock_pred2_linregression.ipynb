{
 "cells": [
  {
   "cell_type": "code",
   "execution_count": 3,
   "metadata": {},
   "outputs": [],
   "source": [
    "import numpy as np\n",
    "import pandas as pd\n",
    "from sklearn import linear_model\n",
    "from pandas import Series, DataFrame\n",
    "import matplotlib.pyplot as plt\n",
    "from matplotlib import style\n",
    "import matplotlib as mpl\n",
    "from sklearn.metrics import mean_squared_error, r2_score"
   ]
  },
  {
   "cell_type": "code",
   "execution_count": 4,
   "metadata": {},
   "outputs": [],
   "source": [
    "avetime = 30"
   ]
  },
  {
   "cell_type": "code",
   "execution_count": 5,
   "metadata": {},
   "outputs": [
    {
     "name": "stdout",
     "output_type": "stream",
     "text": [
      "Coefficients: \n",
      " [[0.01912901]]\n",
      "Coefficients: \n",
      " [[0.01605997]]\n",
      "Mean squared error: 10.83\n",
      "Mov Avg mean squared error: 9.22\n",
      "Variance score: -17.49\n",
      "move avg Variance score: -41.50\n"
     ]
    },
    {
     "data": {
      "image/png": "[encoded data removed]",
      "text/plain": [
       "<Figure size 432x288 with 1 Axes>"
      ]
     },
     "metadata": {},
     "output_type": "display_data"
    }
   ],
   "source": [
    "def moving_average(a, n=100):\n",
    "    ret = np.cumsum(a, dtype=float)\n",
    "    ret[n:] = ret[n:] - ret[:-n]\n",
    "    return ret[n - 1:] / n\n",
    "\n",
    "\n",
    "df = pd.read_csv('data/KO.csv')\n",
    "close_px = df['Adj Close']\n",
    "\n",
    "close_px = np.asarray(df['Adj Close'])\n",
    "close_px = close_px.reshape(-1, 1)\n",
    "df['Date'] = df['Date'].astype('datetime64[D]')\n",
    "df['Serial'] = df['Date'] - min(df['Date'])\n",
    "thedate = np.asarray(df['Serial']) / np.timedelta64(1, 'D')\n",
    "thedate = thedate.reshape(-1, 1)\n",
    "\n",
    "mavg = moving_average(np.asarray(close_px), avetime)\n",
    "mavg = mavg[~np.isnan(mavg)]\n",
    "mavg = mavg.reshape(-1, 1)\n",
    "\n",
    "mavg_date = moving_average(np.asarray(thedate), avetime)\n",
    "mavg_date = mavg_date.reshape(-1, 1)\n",
    "mavg_date_train = mavg_date[:-20]\n",
    "mavg_date_test = mavg_date[-20:]\n",
    "\n",
    "# Split the data into training/testing sets\n",
    "daterange_train = thedate[:-20]\n",
    "daterange_test = thedate[-20:]\n",
    "\n",
    "# Split the targets into training/testing sets\n",
    "close_px_train = close_px[:-20]\n",
    "close_px_test = close_px[-20:]\n",
    "\n",
    "mavg_train = mavg[:-20]\n",
    "mavg_test = mavg[-20:]\n",
    "\n",
    "\n",
    "# Create linear regression object\n",
    "regr = linear_model.LinearRegression()\n",
    "regrmavg = linear_model.LinearRegression()\n",
    "# Train the model using the training sets\n",
    "regr.fit(daterange_train, close_px_train)\n",
    "regrmavg.fit(mavg_date_train, mavg_train)\n",
    "\n",
    "# Make predictions using the testing set\n",
    "close_px_pred = regr.predict(daterange_test)\n",
    "mavg_pred = regrmavg.predict(mavg_date_test)\n",
    "\n",
    "# The coefficients\n",
    "print('Coefficients: \\n', regr.coef_)\n",
    "print('Coefficients: \\n', regrmavg.coef_)\n",
    "# The mean squared error\n",
    "print(\"Mean squared error: %.2f\"\n",
    "      % mean_squared_error(close_px_test, close_px_pred))\n",
    "print(\"Mov Avg mean squared error: %.2f\"\n",
    "      % mean_squared_error(mavg_test, mavg_pred))\n",
    "# Explained variance score: 1 is perfect prediction\n",
    "print('Variance score: %.2f' % r2_score(close_px_test, close_px_pred))\n",
    "print('move avg Variance score: %.2f' % r2_score(mavg_test, mavg_pred))\n",
    "# Plot outputs\n",
    "# plt.scatter(daterange_test, close_px_test,  color='black')\n",
    "# plt.plot(daterange_test, close_px_pred, color='blue', linewidth=3)\n",
    "#\n",
    "# plt.xticks(())\n",
    "# plt.yticks(())\n",
    "#\n",
    "# plt.show()\n",
    "\n",
    "plt.scatter(mavg_date_test, mavg_test,  color='red')\n",
    "plt.plot(mavg_date_test, mavg_pred, color='orange', linewidth=3)\n",
    "\n",
    "plt.xticks(())\n",
    "plt.yticks(())\n",
    "\n",
    "plt.show()"
   ]
  },
  {
   "cell_type": "code",
   "execution_count": null,
   "metadata": {},
   "outputs": [],
   "source": []
  }
 ],
 "metadata": {
  "anaconda-cloud": {},
  "kernelspec": {
   "display_name": "Python 3",
   "language": "python",
   "name": "python3"
  },
  "language_info": {
   "codemirror_mode": {
    "name": "ipython",
    "version": 3
   },
   "file_extension": ".py",
   "mimetype": "text/x-python",
   "name": "python",
   "nbconvert_exporter": "python",
   "pygments_lexer": "ipython3",
   "version": "3.6.8"
  }
 },
 "nbformat": 4,
 "nbformat_minor": 1
}
